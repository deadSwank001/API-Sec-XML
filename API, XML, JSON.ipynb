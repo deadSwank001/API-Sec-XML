# -*- coding: utf-8 -*-
"""
Created on Sun Jun  4 09:36:45 2023

@author: swank
"""

###  @APIkey = bob's key
#     APIpass = xyz123

from lxml import objectify
import pandas as pd

xml = objectify.parse(open('C:\\Users\\swank\\OneDrive\\Desktop\\P4DS\\XMLData.xml'))
root = xml.getroot()

df = pd.DataFrame(columns = ('Number', 'String', 'Boolean'))

for i in range(0, 4):
    obj = root.getchildren()[i].getchildren()
    row = dict(zip(['Number', 'String', 'Boolean'],
               [obj[0].text, obj[1].text,
                obj[2].text]))
    row_s = pd.Series(row)
    row_s.name = 1
    df = df.append(row_s)
    
print(df)

#c:\users\swank\.spyder-py3\untitled0.py:26: FutureWarning: The frame.append method is deprecated and will be removed from pandas in a future version. Use pandas.concat instead.

#BUT pandas.concat doesn't work either